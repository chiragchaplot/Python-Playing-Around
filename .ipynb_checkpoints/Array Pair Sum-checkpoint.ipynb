{
 "cells": [
  {
   "cell_type": "code",
   "execution_count": 72,
   "metadata": {
    "collapsed": true
   },
   "outputs": [],
   "source": [
    "def pair_sum(arr,k):\n",
    "    arr = sorted(arr)\n",
    "    final = ()\n",
    "    for i in arr:\n",
    "        search = k-i\n",
    "        if search in arr:\n",
    "            final = final + ((i,search),)\n",
    "            del arr[arr.index(search)]   \n",
    "        else:\n",
    "            continue;\n",
    "    return final, len(final)\n",
    "    pass        "
   ]
  },
  {
   "cell_type": "code",
   "execution_count": 73,
   "metadata": {
    "collapsed": false
   },
   "outputs": [],
   "source": [
    "arr = [1,9,2,8,3,7,4,6,5,5,13,14,11,13,-1]\n",
    "k=10\n",
    "pairs,count = pair_sum(arr,k)"
   ]
  },
  {
   "cell_type": "code",
   "execution_count": 74,
   "metadata": {
    "collapsed": false
   },
   "outputs": [
    {
     "name": "stdout",
     "output_type": "stream",
     "text": [
      "6\n",
      "((-1, 11), (1, 9), (2, 8), (3, 7), (4, 6), (5, 5))\n"
     ]
    }
   ],
   "source": [
    "print count\n",
    "print pairs"
   ]
  },
  {
   "cell_type": "code",
   "execution_count": null,
   "metadata": {
    "collapsed": true
   },
   "outputs": [],
   "source": []
  }
 ],
 "metadata": {
  "kernelspec": {
   "display_name": "Python 2",
   "language": "python",
   "name": "python2"
  },
  "language_info": {
   "codemirror_mode": {
    "name": "ipython",
    "version": 2
   },
   "file_extension": ".py",
   "mimetype": "text/x-python",
   "name": "python",
   "nbconvert_exporter": "python",
   "pygments_lexer": "ipython2",
   "version": "2.7.13"
  }
 },
 "nbformat": 4,
 "nbformat_minor": 2
}
